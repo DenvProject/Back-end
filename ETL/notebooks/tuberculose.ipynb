{
 "metadata": {
  "language_info": {
   "codemirror_mode": {
    "name": "ipython",
    "version": 3
   },
   "file_extension": ".py",
   "mimetype": "text/x-python",
   "name": "python",
   "nbconvert_exporter": "python",
   "pygments_lexer": "ipython3",
   "version": "3.6.9"
  },
  "orig_nbformat": 2,
  "kernelspec": {
   "name": "python36964bit1ec68fe535d74d50b84ee024a1742e6d",
   "display_name": "Python 3.6.9 64-bit"
  },
  "metadata": {
   "interpreter": {
    "hash": "31f2aee4e71d21fbe5cf8b01ff0e069b9275f58929596ceb00d14d90e3e16cd6"
   }
  }
 },
 "nbformat": 4,
 "nbformat_minor": 2,
 "cells": [
  {
   "source": [
    "# Notebook de tratamento dos dados acerca da frequência de notificações da tuberculose no Brasil"
   ],
   "cell_type": "markdown",
   "metadata": {}
  },
  {
   "source": [
    "## Importação das bibliotecas"
   ],
   "cell_type": "markdown",
   "metadata": {}
  },
  {
   "cell_type": "code",
   "execution_count": 1,
   "metadata": {},
   "outputs": [],
   "source": [
    "import pandas as pd"
   ]
  },
  {
   "source": [
    "---\n",
    "\n",
    "## Configuração de variáveis"
   ],
   "cell_type": "markdown",
   "metadata": {}
  },
  {
   "cell_type": "code",
   "execution_count": 2,
   "metadata": {},
   "outputs": [],
   "source": [
    "info = 'tuberculose'\n",
    "place = 'brasil'\n",
    "path_to_csv = '../data/extracted/{}/{}_{}.csv'.format(info, info, place)"
   ]
  },
  {
   "source": [
    "---\n",
    "\n",
    "## Recuperação e visualização superficial dos metadados"
   ],
   "cell_type": "markdown",
   "metadata": {}
  },
  {
   "cell_type": "code",
   "execution_count": 3,
   "metadata": {},
   "outputs": [],
   "source": [
    "df = pd.read_csv(path_to_csv, encoding='utf8', sep=';', skipfooter=18, engine='python')"
   ]
  },
  {
   "cell_type": "code",
   "execution_count": 4,
   "metadata": {},
   "outputs": [
    {
     "output_type": "execute_result",
     "data": {
      "text/plain": [
       "        UF de notificacão   2001   2002   2003   2004   2005   2006   2007  \\\n",
       "20              41 Paraná   3224   3436   3454   3294   3418   2832   3059   \n",
       "21      42 Santa Catarina   1695   1873   1903   1870   1837   1820   1866   \n",
       "22   43 Rio Grande do Sul   5231   5509   5786   5906   5661   5155   5496   \n",
       "23  50 Mato Grosso do Sul    980    914   1022   1034   1053    882    963   \n",
       "24         51 Mato Grosso   1425   1248   1267   1148   1344   1310   1170   \n",
       "25               52 Goiás   1148   1149   1242   1089   1081    976    959   \n",
       "26    53 Distrito Federal    638    606    614    625    621    583    634   \n",
       "27                  Total  87265  92859  93773  92980  92056  85031  84600   \n",
       "\n",
       "     2008   2009  ...   2012   2013   2014   2015   2016   2017   2018   2019  \\\n",
       "20   2991   2808  ...   2534   2650   2554   2466   2436   2501   2860   2883   \n",
       "21   2022   2002  ...   2229   2268   2248   2180   2199   2228   2282   2265   \n",
       "22   5687   6100  ...   6405   6348   6372   6380   6043   6599   6908   7642   \n",
       "23   1019   1044  ...   1091   1098    998   1003   1130   1140   1455   1406   \n",
       "24   1280   1158  ...   1605   1886   1794   1442   1456   1430   1414   1532   \n",
       "25    953   1012  ...   1058   1072    991   1095   1027   1163   1212   1173   \n",
       "26    518    449  ...    554    473    512    478    463    413    471    483   \n",
       "27  86768  86318  ...  86183  86208  85213  85452  86207  91301  95539  97629   \n",
       "\n",
       "     2020    Total  \n",
       "20   2814    57706  \n",
       "21   1509    40584  \n",
       "22   6327   122095  \n",
       "23   1171    21393  \n",
       "24   1188    27836  \n",
       "25    952    21357  \n",
       "26    382    10436  \n",
       "27  83678  1772254  \n",
       "\n",
       "[8 rows x 22 columns]"
      ],
      "text/html": "<div>\n<style scoped>\n    .dataframe tbody tr th:only-of-type {\n        vertical-align: middle;\n    }\n\n    .dataframe tbody tr th {\n        vertical-align: top;\n    }\n\n    .dataframe thead th {\n        text-align: right;\n    }\n</style>\n<table border=\"1\" class=\"dataframe\">\n  <thead>\n    <tr style=\"text-align: right;\">\n      <th></th>\n      <th>UF de notificacão</th>\n      <th>2001</th>\n      <th>2002</th>\n      <th>2003</th>\n      <th>2004</th>\n      <th>2005</th>\n      <th>2006</th>\n      <th>2007</th>\n      <th>2008</th>\n      <th>2009</th>\n      <th>...</th>\n      <th>2012</th>\n      <th>2013</th>\n      <th>2014</th>\n      <th>2015</th>\n      <th>2016</th>\n      <th>2017</th>\n      <th>2018</th>\n      <th>2019</th>\n      <th>2020</th>\n      <th>Total</th>\n    </tr>\n  </thead>\n  <tbody>\n    <tr>\n      <th>20</th>\n      <td>41 Paraná</td>\n      <td>3224</td>\n      <td>3436</td>\n      <td>3454</td>\n      <td>3294</td>\n      <td>3418</td>\n      <td>2832</td>\n      <td>3059</td>\n      <td>2991</td>\n      <td>2808</td>\n      <td>...</td>\n      <td>2534</td>\n      <td>2650</td>\n      <td>2554</td>\n      <td>2466</td>\n      <td>2436</td>\n      <td>2501</td>\n      <td>2860</td>\n      <td>2883</td>\n      <td>2814</td>\n      <td>57706</td>\n    </tr>\n    <tr>\n      <th>21</th>\n      <td>42 Santa Catarina</td>\n      <td>1695</td>\n      <td>1873</td>\n      <td>1903</td>\n      <td>1870</td>\n      <td>1837</td>\n      <td>1820</td>\n      <td>1866</td>\n      <td>2022</td>\n      <td>2002</td>\n      <td>...</td>\n      <td>2229</td>\n      <td>2268</td>\n      <td>2248</td>\n      <td>2180</td>\n      <td>2199</td>\n      <td>2228</td>\n      <td>2282</td>\n      <td>2265</td>\n      <td>1509</td>\n      <td>40584</td>\n    </tr>\n    <tr>\n      <th>22</th>\n      <td>43 Rio Grande do Sul</td>\n      <td>5231</td>\n      <td>5509</td>\n      <td>5786</td>\n      <td>5906</td>\n      <td>5661</td>\n      <td>5155</td>\n      <td>5496</td>\n      <td>5687</td>\n      <td>6100</td>\n      <td>...</td>\n      <td>6405</td>\n      <td>6348</td>\n      <td>6372</td>\n      <td>6380</td>\n      <td>6043</td>\n      <td>6599</td>\n      <td>6908</td>\n      <td>7642</td>\n      <td>6327</td>\n      <td>122095</td>\n    </tr>\n    <tr>\n      <th>23</th>\n      <td>50 Mato Grosso do Sul</td>\n      <td>980</td>\n      <td>914</td>\n      <td>1022</td>\n      <td>1034</td>\n      <td>1053</td>\n      <td>882</td>\n      <td>963</td>\n      <td>1019</td>\n      <td>1044</td>\n      <td>...</td>\n      <td>1091</td>\n      <td>1098</td>\n      <td>998</td>\n      <td>1003</td>\n      <td>1130</td>\n      <td>1140</td>\n      <td>1455</td>\n      <td>1406</td>\n      <td>1171</td>\n      <td>21393</td>\n    </tr>\n    <tr>\n      <th>24</th>\n      <td>51 Mato Grosso</td>\n      <td>1425</td>\n      <td>1248</td>\n      <td>1267</td>\n      <td>1148</td>\n      <td>1344</td>\n      <td>1310</td>\n      <td>1170</td>\n      <td>1280</td>\n      <td>1158</td>\n      <td>...</td>\n      <td>1605</td>\n      <td>1886</td>\n      <td>1794</td>\n      <td>1442</td>\n      <td>1456</td>\n      <td>1430</td>\n      <td>1414</td>\n      <td>1532</td>\n      <td>1188</td>\n      <td>27836</td>\n    </tr>\n    <tr>\n      <th>25</th>\n      <td>52 Goiás</td>\n      <td>1148</td>\n      <td>1149</td>\n      <td>1242</td>\n      <td>1089</td>\n      <td>1081</td>\n      <td>976</td>\n      <td>959</td>\n      <td>953</td>\n      <td>1012</td>\n      <td>...</td>\n      <td>1058</td>\n      <td>1072</td>\n      <td>991</td>\n      <td>1095</td>\n      <td>1027</td>\n      <td>1163</td>\n      <td>1212</td>\n      <td>1173</td>\n      <td>952</td>\n      <td>21357</td>\n    </tr>\n    <tr>\n      <th>26</th>\n      <td>53 Distrito Federal</td>\n      <td>638</td>\n      <td>606</td>\n      <td>614</td>\n      <td>625</td>\n      <td>621</td>\n      <td>583</td>\n      <td>634</td>\n      <td>518</td>\n      <td>449</td>\n      <td>...</td>\n      <td>554</td>\n      <td>473</td>\n      <td>512</td>\n      <td>478</td>\n      <td>463</td>\n      <td>413</td>\n      <td>471</td>\n      <td>483</td>\n      <td>382</td>\n      <td>10436</td>\n    </tr>\n    <tr>\n      <th>27</th>\n      <td>Total</td>\n      <td>87265</td>\n      <td>92859</td>\n      <td>93773</td>\n      <td>92980</td>\n      <td>92056</td>\n      <td>85031</td>\n      <td>84600</td>\n      <td>86768</td>\n      <td>86318</td>\n      <td>...</td>\n      <td>86183</td>\n      <td>86208</td>\n      <td>85213</td>\n      <td>85452</td>\n      <td>86207</td>\n      <td>91301</td>\n      <td>95539</td>\n      <td>97629</td>\n      <td>83678</td>\n      <td>1772254</td>\n    </tr>\n  </tbody>\n</table>\n<p>8 rows × 22 columns</p>\n</div>"
     },
     "metadata": {},
     "execution_count": 4
    }
   ],
   "source": [
    "df.tail(8)"
   ]
  },
  {
   "source": [
    "---\n",
    "\n",
    "## Tratamento das informações"
   ],
   "cell_type": "markdown",
   "metadata": {}
  },
  {
   "source": [
    "### Inclusão da região aos metadados"
   ],
   "cell_type": "markdown",
   "metadata": {}
  },
  {
   "cell_type": "code",
   "execution_count": 5,
   "metadata": {},
   "outputs": [],
   "source": [
    "region_map = {\n",
    "    \"1\": \"Norte\",\n",
    "    \"2\": \"Nordeste\",\n",
    "    \"3\": \"Sudeste\",\n",
    "    \"4\": \"Sul\",\n",
    "    \"5\": \"Centro-Oeste\",\n",
    "    \"T\": \"-\"\n",
    "}\n",
    "df['Região'] = [region_map[i[0]] for i in df['UF de notificacão']]"
   ]
  },
  {
   "cell_type": "code",
   "execution_count": 6,
   "metadata": {},
   "outputs": [
    {
     "output_type": "execute_result",
     "data": {
      "text/plain": [
       "  UF de notificacão  2001  2002  2003  2004  2005  2006  2007  2008  2009  \\\n",
       "0       11 Rondônia   674   639   651   628   630   519   548   564   680   \n",
       "1           12 Acre   364   368   368   356   329   391   314   314   364   \n",
       "2       13 Amazonas  2334  2286  2375  2559  2477  2432  2461  2688  2606   \n",
       "3        14 Roraima   150   172   206   218   155   147   137   155   145   \n",
       "4           15 Pará  3517  3785  3940  4089  3975  3789  3763  3790  4106   \n",
       "5          16 Amapá   223   296   273   275   274   245   273   266   253   \n",
       "6      17 Tocantins   320   333   284   260   253   256   231   207   223   \n",
       "7       21 Maranhão  2901  3043  2980  2974  3179  2883  2780  2464  2462   \n",
       "\n",
       "   ...  2013  2014  2015  2016  2017  2018  2019  2020  Total    Região  \n",
       "0  ...   711   686   665   775   780   678   740   573  13090     Norte  \n",
       "1  ...   406   462   361   450   484   483   582   537   8081     Norte  \n",
       "2  ...  3060  3143  3404  3259  3693  3803  3955  3500  58327     Norte  \n",
       "3  ...   167   148   174   160   205   265   324   286   3674     Norte  \n",
       "4  ...  4119  3940  3991  4224  4511  4678  5542  4437  82682     Norte  \n",
       "5  ...   220   211   225   287   298   284   357   274   5267     Norte  \n",
       "6  ...   194   186   193   210   187   233   234   200   4620     Norte  \n",
       "7  ...  2278  2111  2238  2442  2469  2647  2666  2332  51953  Nordeste  \n",
       "\n",
       "[8 rows x 23 columns]"
      ],
      "text/html": "<div>\n<style scoped>\n    .dataframe tbody tr th:only-of-type {\n        vertical-align: middle;\n    }\n\n    .dataframe tbody tr th {\n        vertical-align: top;\n    }\n\n    .dataframe thead th {\n        text-align: right;\n    }\n</style>\n<table border=\"1\" class=\"dataframe\">\n  <thead>\n    <tr style=\"text-align: right;\">\n      <th></th>\n      <th>UF de notificacão</th>\n      <th>2001</th>\n      <th>2002</th>\n      <th>2003</th>\n      <th>2004</th>\n      <th>2005</th>\n      <th>2006</th>\n      <th>2007</th>\n      <th>2008</th>\n      <th>2009</th>\n      <th>...</th>\n      <th>2013</th>\n      <th>2014</th>\n      <th>2015</th>\n      <th>2016</th>\n      <th>2017</th>\n      <th>2018</th>\n      <th>2019</th>\n      <th>2020</th>\n      <th>Total</th>\n      <th>Região</th>\n    </tr>\n  </thead>\n  <tbody>\n    <tr>\n      <th>0</th>\n      <td>11 Rondônia</td>\n      <td>674</td>\n      <td>639</td>\n      <td>651</td>\n      <td>628</td>\n      <td>630</td>\n      <td>519</td>\n      <td>548</td>\n      <td>564</td>\n      <td>680</td>\n      <td>...</td>\n      <td>711</td>\n      <td>686</td>\n      <td>665</td>\n      <td>775</td>\n      <td>780</td>\n      <td>678</td>\n      <td>740</td>\n      <td>573</td>\n      <td>13090</td>\n      <td>Norte</td>\n    </tr>\n    <tr>\n      <th>1</th>\n      <td>12 Acre</td>\n      <td>364</td>\n      <td>368</td>\n      <td>368</td>\n      <td>356</td>\n      <td>329</td>\n      <td>391</td>\n      <td>314</td>\n      <td>314</td>\n      <td>364</td>\n      <td>...</td>\n      <td>406</td>\n      <td>462</td>\n      <td>361</td>\n      <td>450</td>\n      <td>484</td>\n      <td>483</td>\n      <td>582</td>\n      <td>537</td>\n      <td>8081</td>\n      <td>Norte</td>\n    </tr>\n    <tr>\n      <th>2</th>\n      <td>13 Amazonas</td>\n      <td>2334</td>\n      <td>2286</td>\n      <td>2375</td>\n      <td>2559</td>\n      <td>2477</td>\n      <td>2432</td>\n      <td>2461</td>\n      <td>2688</td>\n      <td>2606</td>\n      <td>...</td>\n      <td>3060</td>\n      <td>3143</td>\n      <td>3404</td>\n      <td>3259</td>\n      <td>3693</td>\n      <td>3803</td>\n      <td>3955</td>\n      <td>3500</td>\n      <td>58327</td>\n      <td>Norte</td>\n    </tr>\n    <tr>\n      <th>3</th>\n      <td>14 Roraima</td>\n      <td>150</td>\n      <td>172</td>\n      <td>206</td>\n      <td>218</td>\n      <td>155</td>\n      <td>147</td>\n      <td>137</td>\n      <td>155</td>\n      <td>145</td>\n      <td>...</td>\n      <td>167</td>\n      <td>148</td>\n      <td>174</td>\n      <td>160</td>\n      <td>205</td>\n      <td>265</td>\n      <td>324</td>\n      <td>286</td>\n      <td>3674</td>\n      <td>Norte</td>\n    </tr>\n    <tr>\n      <th>4</th>\n      <td>15 Pará</td>\n      <td>3517</td>\n      <td>3785</td>\n      <td>3940</td>\n      <td>4089</td>\n      <td>3975</td>\n      <td>3789</td>\n      <td>3763</td>\n      <td>3790</td>\n      <td>4106</td>\n      <td>...</td>\n      <td>4119</td>\n      <td>3940</td>\n      <td>3991</td>\n      <td>4224</td>\n      <td>4511</td>\n      <td>4678</td>\n      <td>5542</td>\n      <td>4437</td>\n      <td>82682</td>\n      <td>Norte</td>\n    </tr>\n    <tr>\n      <th>5</th>\n      <td>16 Amapá</td>\n      <td>223</td>\n      <td>296</td>\n      <td>273</td>\n      <td>275</td>\n      <td>274</td>\n      <td>245</td>\n      <td>273</td>\n      <td>266</td>\n      <td>253</td>\n      <td>...</td>\n      <td>220</td>\n      <td>211</td>\n      <td>225</td>\n      <td>287</td>\n      <td>298</td>\n      <td>284</td>\n      <td>357</td>\n      <td>274</td>\n      <td>5267</td>\n      <td>Norte</td>\n    </tr>\n    <tr>\n      <th>6</th>\n      <td>17 Tocantins</td>\n      <td>320</td>\n      <td>333</td>\n      <td>284</td>\n      <td>260</td>\n      <td>253</td>\n      <td>256</td>\n      <td>231</td>\n      <td>207</td>\n      <td>223</td>\n      <td>...</td>\n      <td>194</td>\n      <td>186</td>\n      <td>193</td>\n      <td>210</td>\n      <td>187</td>\n      <td>233</td>\n      <td>234</td>\n      <td>200</td>\n      <td>4620</td>\n      <td>Norte</td>\n    </tr>\n    <tr>\n      <th>7</th>\n      <td>21 Maranhão</td>\n      <td>2901</td>\n      <td>3043</td>\n      <td>2980</td>\n      <td>2974</td>\n      <td>3179</td>\n      <td>2883</td>\n      <td>2780</td>\n      <td>2464</td>\n      <td>2462</td>\n      <td>...</td>\n      <td>2278</td>\n      <td>2111</td>\n      <td>2238</td>\n      <td>2442</td>\n      <td>2469</td>\n      <td>2647</td>\n      <td>2666</td>\n      <td>2332</td>\n      <td>51953</td>\n      <td>Nordeste</td>\n    </tr>\n  </tbody>\n</table>\n<p>8 rows × 23 columns</p>\n</div>"
     },
     "metadata": {},
     "execution_count": 6
    }
   ],
   "source": [
    "df.head(8)"
   ]
  },
  {
   "source": [
    "### Criação de um novo dataframe apenas com os dados numéricos"
   ],
   "cell_type": "markdown",
   "metadata": {}
  },
  {
   "cell_type": "code",
   "execution_count": 7,
   "metadata": {},
   "outputs": [
    {
     "output_type": "stream",
     "name": "stdout",
     "text": [
      "['UF de notificacão', '2001', '2002', '2003', '2004', '2005', '2006', '2007', '2008', '2009', '2010', '2011', '2012', '2013', '2014', '2015', '2016', '2017', '2018', '2019', '2020', 'Região', 'Total']\n"
     ]
    }
   ],
   "source": [
    "useful_columns = df.mean().index.tolist()\n",
    "useful_columns.insert(0, 'UF de notificacão')\n",
    "useful_columns.insert(-1, 'Região')\n",
    "print(useful_columns)"
   ]
  },
  {
   "cell_type": "code",
   "execution_count": 8,
   "metadata": {},
   "outputs": [],
   "source": [
    "useful_data = df[useful_columns]"
   ]
  },
  {
   "cell_type": "code",
   "execution_count": 9,
   "metadata": {},
   "outputs": [
    {
     "output_type": "execute_result",
     "data": {
      "text/plain": [
       "      UF de notificacão   2001   2002   2003   2004   2005   2006   2007  \\\n",
       "0              Rondônia    674    639    651    628    630    519    548   \n",
       "1                  Acre    364    368    368    356    329    391    314   \n",
       "2              Amazonas   2334   2286   2375   2559   2477   2432   2461   \n",
       "3               Roraima    150    172    206    218    155    147    137   \n",
       "4                  Pará   3517   3785   3940   4089   3975   3789   3763   \n",
       "5                 Amapá    223    296    273    275    274    245    273   \n",
       "6             Tocantins    320    333    284    260    253    256    231   \n",
       "7              Maranhão   2901   3043   2980   2974   3179   2883   2780   \n",
       "8                 Piauí   1568   1519   1448   1563   1551   1306   1357   \n",
       "9                 Ceará   4240   4385   4586   4461   4656   4140   4161   \n",
       "10  Rio Grande do Norte   1158   1179   1354   1373   1356   1163   1112   \n",
       "11              Paraíba   1369   1395   1465   1508   1482   1122   1182   \n",
       "12           Pernambuco   4542   4870   5153   5451   5319   4898   4835   \n",
       "13              Alagoas   1332   1351   1426   1422   1507   1356   1380   \n",
       "14              Sergipe    557    599    664    634    834    697    593   \n",
       "15                Bahia   7935   7853   8435   8212   7937   7148   6734   \n",
       "16         Minas Gerais   1331   5886   5982   6086   5926   5369   5311   \n",
       "17       Espírito Santo   1658   1569   1563   1529   1448   1353   1432   \n",
       "18       Rio de Janeiro  16976  16789  16130  15832  15325  14200  14206   \n",
       "19            São Paulo  19775  19807  19202  18584  18428  18059  17643   \n",
       "20               Paraná   3224   3436   3454   3294   3418   2832   3059   \n",
       "21       Santa Catarina   1695   1873   1903   1870   1837   1820   1866   \n",
       "22    Rio Grande do Sul   5231   5509   5786   5906   5661   5155   5496   \n",
       "23   Mato Grosso do Sul    980    914   1022   1034   1053    882    963   \n",
       "24          Mato Grosso   1425   1248   1267   1148   1344   1310   1170   \n",
       "25                Goiás   1148   1149   1242   1089   1081    976    959   \n",
       "26     Distrito Federal    638    606    614    625    621    583    634   \n",
       "27                Total  87265  92859  93773  92980  92056  85031  84600   \n",
       "\n",
       "     2008   2009  ...   2013   2014   2015   2016   2017   2018   2019   2020  \\\n",
       "0     564    680  ...    711    686    665    775    780    678    740    573   \n",
       "1     314    364  ...    406    462    361    450    484    483    582    537   \n",
       "2    2688   2606  ...   3060   3143   3404   3259   3693   3803   3955   3500   \n",
       "3     155    145  ...    167    148    174    160    205    265    324    286   \n",
       "4    3790   4106  ...   4119   3940   3991   4224   4511   4678   5542   4437   \n",
       "5     266    253  ...    220    211    225    287    298    284    357    274   \n",
       "6     207    223  ...    194    186    193    210    187    233    234    200   \n",
       "7    2464   2462  ...   2278   2111   2238   2442   2469   2647   2666   2332   \n",
       "8    1224   1108  ...    908    813    754    812    791    884    877    758   \n",
       "9    4473   4664  ...   4052   3879   4012   4045   4289   4555   4544   3696   \n",
       "10   1211   1185  ...   1273   1187   1156   1182   1354   1624   1417   1502   \n",
       "11   1324   1320  ...   1429   1312   1250   1215   1360   1542   1486   1263   \n",
       "12   4995   5028  ...   5420   5443   5649   5513   6378   6491   6793   6069   \n",
       "13   1408   1448  ...   1324   1245   1068   1236   1264   1340   1288    922   \n",
       "14    695    686  ...    710    788    771    800    832    978   1022    793   \n",
       "15   6667   6971  ...   5679   5612   5304   5300   5498   5667   5653   4448   \n",
       "16   5188   4851  ...   4200   4193   4055   4073   4064   4224   4356   3889   \n",
       "17   1537   1427  ...   1384   1314   1395   1238   1324   1484   1492   1734   \n",
       "18  14676  14390  ...  13349  13095  13367  13645  13927  14819  14963  13077   \n",
       "19  18452  17828  ...  19530  19976  20376  20587  22119  22258  21953  19045   \n",
       "20   2991   2808  ...   2650   2554   2466   2436   2501   2860   2883   2814   \n",
       "21   2022   2002  ...   2268   2248   2180   2199   2228   2282   2265   1509   \n",
       "22   5687   6100  ...   6348   6372   6380   6043   6599   6908   7642   6327   \n",
       "23   1019   1044  ...   1098    998   1003   1130   1140   1455   1406   1171   \n",
       "24   1280   1158  ...   1886   1794   1442   1456   1430   1414   1532   1188   \n",
       "25    953   1012  ...   1072    991   1095   1027   1163   1212   1173    952   \n",
       "26    518    449  ...    473    512    478    463    413    471    483    382   \n",
       "27  86768  86318  ...  86208  85213  85452  86207  91301  95539  97629  83678   \n",
       "\n",
       "          Região    Total  \n",
       "0          Norte    13090  \n",
       "1          Norte     8081  \n",
       "2          Norte    58327  \n",
       "3          Norte     3674  \n",
       "4          Norte    82682  \n",
       "5          Norte     5267  \n",
       "6          Norte     4620  \n",
       "7       Nordeste    51953  \n",
       "8       Nordeste    22158  \n",
       "9       Nordeste    85787  \n",
       "10      Nordeste    25372  \n",
       "11      Nordeste    27190  \n",
       "12      Nordeste   109108  \n",
       "13      Nordeste    26370  \n",
       "14      Nordeste    14569  \n",
       "15      Nordeste   130068  \n",
       "16       Sudeste    92310  \n",
       "17       Sudeste    29270  \n",
       "18       Sudeste   291356  \n",
       "19       Sudeste   389594  \n",
       "20           Sul    57706  \n",
       "21           Sul    40584  \n",
       "22           Sul   122095  \n",
       "23  Centro-Oeste    21393  \n",
       "24  Centro-Oeste    27836  \n",
       "25  Centro-Oeste    21357  \n",
       "26  Centro-Oeste    10436  \n",
       "27             -  1772254  \n",
       "\n",
       "[28 rows x 23 columns]"
      ],
      "text/html": "<div>\n<style scoped>\n    .dataframe tbody tr th:only-of-type {\n        vertical-align: middle;\n    }\n\n    .dataframe tbody tr th {\n        vertical-align: top;\n    }\n\n    .dataframe thead th {\n        text-align: right;\n    }\n</style>\n<table border=\"1\" class=\"dataframe\">\n  <thead>\n    <tr style=\"text-align: right;\">\n      <th></th>\n      <th>UF de notificacão</th>\n      <th>2001</th>\n      <th>2002</th>\n      <th>2003</th>\n      <th>2004</th>\n      <th>2005</th>\n      <th>2006</th>\n      <th>2007</th>\n      <th>2008</th>\n      <th>2009</th>\n      <th>...</th>\n      <th>2013</th>\n      <th>2014</th>\n      <th>2015</th>\n      <th>2016</th>\n      <th>2017</th>\n      <th>2018</th>\n      <th>2019</th>\n      <th>2020</th>\n      <th>Região</th>\n      <th>Total</th>\n    </tr>\n  </thead>\n  <tbody>\n    <tr>\n      <th>0</th>\n      <td>Rondônia</td>\n      <td>674</td>\n      <td>639</td>\n      <td>651</td>\n      <td>628</td>\n      <td>630</td>\n      <td>519</td>\n      <td>548</td>\n      <td>564</td>\n      <td>680</td>\n      <td>...</td>\n      <td>711</td>\n      <td>686</td>\n      <td>665</td>\n      <td>775</td>\n      <td>780</td>\n      <td>678</td>\n      <td>740</td>\n      <td>573</td>\n      <td>Norte</td>\n      <td>13090</td>\n    </tr>\n    <tr>\n      <th>1</th>\n      <td>Acre</td>\n      <td>364</td>\n      <td>368</td>\n      <td>368</td>\n      <td>356</td>\n      <td>329</td>\n      <td>391</td>\n      <td>314</td>\n      <td>314</td>\n      <td>364</td>\n      <td>...</td>\n      <td>406</td>\n      <td>462</td>\n      <td>361</td>\n      <td>450</td>\n      <td>484</td>\n      <td>483</td>\n      <td>582</td>\n      <td>537</td>\n      <td>Norte</td>\n      <td>8081</td>\n    </tr>\n    <tr>\n      <th>2</th>\n      <td>Amazonas</td>\n      <td>2334</td>\n      <td>2286</td>\n      <td>2375</td>\n      <td>2559</td>\n      <td>2477</td>\n      <td>2432</td>\n      <td>2461</td>\n      <td>2688</td>\n      <td>2606</td>\n      <td>...</td>\n      <td>3060</td>\n      <td>3143</td>\n      <td>3404</td>\n      <td>3259</td>\n      <td>3693</td>\n      <td>3803</td>\n      <td>3955</td>\n      <td>3500</td>\n      <td>Norte</td>\n      <td>58327</td>\n    </tr>\n    <tr>\n      <th>3</th>\n      <td>Roraima</td>\n      <td>150</td>\n      <td>172</td>\n      <td>206</td>\n      <td>218</td>\n      <td>155</td>\n      <td>147</td>\n      <td>137</td>\n      <td>155</td>\n      <td>145</td>\n      <td>...</td>\n      <td>167</td>\n      <td>148</td>\n      <td>174</td>\n      <td>160</td>\n      <td>205</td>\n      <td>265</td>\n      <td>324</td>\n      <td>286</td>\n      <td>Norte</td>\n      <td>3674</td>\n    </tr>\n    <tr>\n      <th>4</th>\n      <td>Pará</td>\n      <td>3517</td>\n      <td>3785</td>\n      <td>3940</td>\n      <td>4089</td>\n      <td>3975</td>\n      <td>3789</td>\n      <td>3763</td>\n      <td>3790</td>\n      <td>4106</td>\n      <td>...</td>\n      <td>4119</td>\n      <td>3940</td>\n      <td>3991</td>\n      <td>4224</td>\n      <td>4511</td>\n      <td>4678</td>\n      <td>5542</td>\n      <td>4437</td>\n      <td>Norte</td>\n      <td>82682</td>\n    </tr>\n    <tr>\n      <th>5</th>\n      <td>Amapá</td>\n      <td>223</td>\n      <td>296</td>\n      <td>273</td>\n      <td>275</td>\n      <td>274</td>\n      <td>245</td>\n      <td>273</td>\n      <td>266</td>\n      <td>253</td>\n      <td>...</td>\n      <td>220</td>\n      <td>211</td>\n      <td>225</td>\n      <td>287</td>\n      <td>298</td>\n      <td>284</td>\n      <td>357</td>\n      <td>274</td>\n      <td>Norte</td>\n      <td>5267</td>\n    </tr>\n    <tr>\n      <th>6</th>\n      <td>Tocantins</td>\n      <td>320</td>\n      <td>333</td>\n      <td>284</td>\n      <td>260</td>\n      <td>253</td>\n      <td>256</td>\n      <td>231</td>\n      <td>207</td>\n      <td>223</td>\n      <td>...</td>\n      <td>194</td>\n      <td>186</td>\n      <td>193</td>\n      <td>210</td>\n      <td>187</td>\n      <td>233</td>\n      <td>234</td>\n      <td>200</td>\n      <td>Norte</td>\n      <td>4620</td>\n    </tr>\n    <tr>\n      <th>7</th>\n      <td>Maranhão</td>\n      <td>2901</td>\n      <td>3043</td>\n      <td>2980</td>\n      <td>2974</td>\n      <td>3179</td>\n      <td>2883</td>\n      <td>2780</td>\n      <td>2464</td>\n      <td>2462</td>\n      <td>...</td>\n      <td>2278</td>\n      <td>2111</td>\n      <td>2238</td>\n      <td>2442</td>\n      <td>2469</td>\n      <td>2647</td>\n      <td>2666</td>\n      <td>2332</td>\n      <td>Nordeste</td>\n      <td>51953</td>\n    </tr>\n    <tr>\n      <th>8</th>\n      <td>Piauí</td>\n      <td>1568</td>\n      <td>1519</td>\n      <td>1448</td>\n      <td>1563</td>\n      <td>1551</td>\n      <td>1306</td>\n      <td>1357</td>\n      <td>1224</td>\n      <td>1108</td>\n      <td>...</td>\n      <td>908</td>\n      <td>813</td>\n      <td>754</td>\n      <td>812</td>\n      <td>791</td>\n      <td>884</td>\n      <td>877</td>\n      <td>758</td>\n      <td>Nordeste</td>\n      <td>22158</td>\n    </tr>\n    <tr>\n      <th>9</th>\n      <td>Ceará</td>\n      <td>4240</td>\n      <td>4385</td>\n      <td>4586</td>\n      <td>4461</td>\n      <td>4656</td>\n      <td>4140</td>\n      <td>4161</td>\n      <td>4473</td>\n      <td>4664</td>\n      <td>...</td>\n      <td>4052</td>\n      <td>3879</td>\n      <td>4012</td>\n      <td>4045</td>\n      <td>4289</td>\n      <td>4555</td>\n      <td>4544</td>\n      <td>3696</td>\n      <td>Nordeste</td>\n      <td>85787</td>\n    </tr>\n    <tr>\n      <th>10</th>\n      <td>Rio Grande do Norte</td>\n      <td>1158</td>\n      <td>1179</td>\n      <td>1354</td>\n      <td>1373</td>\n      <td>1356</td>\n      <td>1163</td>\n      <td>1112</td>\n      <td>1211</td>\n      <td>1185</td>\n      <td>...</td>\n      <td>1273</td>\n      <td>1187</td>\n      <td>1156</td>\n      <td>1182</td>\n      <td>1354</td>\n      <td>1624</td>\n      <td>1417</td>\n      <td>1502</td>\n      <td>Nordeste</td>\n      <td>25372</td>\n    </tr>\n    <tr>\n      <th>11</th>\n      <td>Paraíba</td>\n      <td>1369</td>\n      <td>1395</td>\n      <td>1465</td>\n      <td>1508</td>\n      <td>1482</td>\n      <td>1122</td>\n      <td>1182</td>\n      <td>1324</td>\n      <td>1320</td>\n      <td>...</td>\n      <td>1429</td>\n      <td>1312</td>\n      <td>1250</td>\n      <td>1215</td>\n      <td>1360</td>\n      <td>1542</td>\n      <td>1486</td>\n      <td>1263</td>\n      <td>Nordeste</td>\n      <td>27190</td>\n    </tr>\n    <tr>\n      <th>12</th>\n      <td>Pernambuco</td>\n      <td>4542</td>\n      <td>4870</td>\n      <td>5153</td>\n      <td>5451</td>\n      <td>5319</td>\n      <td>4898</td>\n      <td>4835</td>\n      <td>4995</td>\n      <td>5028</td>\n      <td>...</td>\n      <td>5420</td>\n      <td>5443</td>\n      <td>5649</td>\n      <td>5513</td>\n      <td>6378</td>\n      <td>6491</td>\n      <td>6793</td>\n      <td>6069</td>\n      <td>Nordeste</td>\n      <td>109108</td>\n    </tr>\n    <tr>\n      <th>13</th>\n      <td>Alagoas</td>\n      <td>1332</td>\n      <td>1351</td>\n      <td>1426</td>\n      <td>1422</td>\n      <td>1507</td>\n      <td>1356</td>\n      <td>1380</td>\n      <td>1408</td>\n      <td>1448</td>\n      <td>...</td>\n      <td>1324</td>\n      <td>1245</td>\n      <td>1068</td>\n      <td>1236</td>\n      <td>1264</td>\n      <td>1340</td>\n      <td>1288</td>\n      <td>922</td>\n      <td>Nordeste</td>\n      <td>26370</td>\n    </tr>\n    <tr>\n      <th>14</th>\n      <td>Sergipe</td>\n      <td>557</td>\n      <td>599</td>\n      <td>664</td>\n      <td>634</td>\n      <td>834</td>\n      <td>697</td>\n      <td>593</td>\n      <td>695</td>\n      <td>686</td>\n      <td>...</td>\n      <td>710</td>\n      <td>788</td>\n      <td>771</td>\n      <td>800</td>\n      <td>832</td>\n      <td>978</td>\n      <td>1022</td>\n      <td>793</td>\n      <td>Nordeste</td>\n      <td>14569</td>\n    </tr>\n    <tr>\n      <th>15</th>\n      <td>Bahia</td>\n      <td>7935</td>\n      <td>7853</td>\n      <td>8435</td>\n      <td>8212</td>\n      <td>7937</td>\n      <td>7148</td>\n      <td>6734</td>\n      <td>6667</td>\n      <td>6971</td>\n      <td>...</td>\n      <td>5679</td>\n      <td>5612</td>\n      <td>5304</td>\n      <td>5300</td>\n      <td>5498</td>\n      <td>5667</td>\n      <td>5653</td>\n      <td>4448</td>\n      <td>Nordeste</td>\n      <td>130068</td>\n    </tr>\n    <tr>\n      <th>16</th>\n      <td>Minas Gerais</td>\n      <td>1331</td>\n      <td>5886</td>\n      <td>5982</td>\n      <td>6086</td>\n      <td>5926</td>\n      <td>5369</td>\n      <td>5311</td>\n      <td>5188</td>\n      <td>4851</td>\n      <td>...</td>\n      <td>4200</td>\n      <td>4193</td>\n      <td>4055</td>\n      <td>4073</td>\n      <td>4064</td>\n      <td>4224</td>\n      <td>4356</td>\n      <td>3889</td>\n      <td>Sudeste</td>\n      <td>92310</td>\n    </tr>\n    <tr>\n      <th>17</th>\n      <td>Espírito Santo</td>\n      <td>1658</td>\n      <td>1569</td>\n      <td>1563</td>\n      <td>1529</td>\n      <td>1448</td>\n      <td>1353</td>\n      <td>1432</td>\n      <td>1537</td>\n      <td>1427</td>\n      <td>...</td>\n      <td>1384</td>\n      <td>1314</td>\n      <td>1395</td>\n      <td>1238</td>\n      <td>1324</td>\n      <td>1484</td>\n      <td>1492</td>\n      <td>1734</td>\n      <td>Sudeste</td>\n      <td>29270</td>\n    </tr>\n    <tr>\n      <th>18</th>\n      <td>Rio de Janeiro</td>\n      <td>16976</td>\n      <td>16789</td>\n      <td>16130</td>\n      <td>15832</td>\n      <td>15325</td>\n      <td>14200</td>\n      <td>14206</td>\n      <td>14676</td>\n      <td>14390</td>\n      <td>...</td>\n      <td>13349</td>\n      <td>13095</td>\n      <td>13367</td>\n      <td>13645</td>\n      <td>13927</td>\n      <td>14819</td>\n      <td>14963</td>\n      <td>13077</td>\n      <td>Sudeste</td>\n      <td>291356</td>\n    </tr>\n    <tr>\n      <th>19</th>\n      <td>São Paulo</td>\n      <td>19775</td>\n      <td>19807</td>\n      <td>19202</td>\n      <td>18584</td>\n      <td>18428</td>\n      <td>18059</td>\n      <td>17643</td>\n      <td>18452</td>\n      <td>17828</td>\n      <td>...</td>\n      <td>19530</td>\n      <td>19976</td>\n      <td>20376</td>\n      <td>20587</td>\n      <td>22119</td>\n      <td>22258</td>\n      <td>21953</td>\n      <td>19045</td>\n      <td>Sudeste</td>\n      <td>389594</td>\n    </tr>\n    <tr>\n      <th>20</th>\n      <td>Paraná</td>\n      <td>3224</td>\n      <td>3436</td>\n      <td>3454</td>\n      <td>3294</td>\n      <td>3418</td>\n      <td>2832</td>\n      <td>3059</td>\n      <td>2991</td>\n      <td>2808</td>\n      <td>...</td>\n      <td>2650</td>\n      <td>2554</td>\n      <td>2466</td>\n      <td>2436</td>\n      <td>2501</td>\n      <td>2860</td>\n      <td>2883</td>\n      <td>2814</td>\n      <td>Sul</td>\n      <td>57706</td>\n    </tr>\n    <tr>\n      <th>21</th>\n      <td>Santa Catarina</td>\n      <td>1695</td>\n      <td>1873</td>\n      <td>1903</td>\n      <td>1870</td>\n      <td>1837</td>\n      <td>1820</td>\n      <td>1866</td>\n      <td>2022</td>\n      <td>2002</td>\n      <td>...</td>\n      <td>2268</td>\n      <td>2248</td>\n      <td>2180</td>\n      <td>2199</td>\n      <td>2228</td>\n      <td>2282</td>\n      <td>2265</td>\n      <td>1509</td>\n      <td>Sul</td>\n      <td>40584</td>\n    </tr>\n    <tr>\n      <th>22</th>\n      <td>Rio Grande do Sul</td>\n      <td>5231</td>\n      <td>5509</td>\n      <td>5786</td>\n      <td>5906</td>\n      <td>5661</td>\n      <td>5155</td>\n      <td>5496</td>\n      <td>5687</td>\n      <td>6100</td>\n      <td>...</td>\n      <td>6348</td>\n      <td>6372</td>\n      <td>6380</td>\n      <td>6043</td>\n      <td>6599</td>\n      <td>6908</td>\n      <td>7642</td>\n      <td>6327</td>\n      <td>Sul</td>\n      <td>122095</td>\n    </tr>\n    <tr>\n      <th>23</th>\n      <td>Mato Grosso do Sul</td>\n      <td>980</td>\n      <td>914</td>\n      <td>1022</td>\n      <td>1034</td>\n      <td>1053</td>\n      <td>882</td>\n      <td>963</td>\n      <td>1019</td>\n      <td>1044</td>\n      <td>...</td>\n      <td>1098</td>\n      <td>998</td>\n      <td>1003</td>\n      <td>1130</td>\n      <td>1140</td>\n      <td>1455</td>\n      <td>1406</td>\n      <td>1171</td>\n      <td>Centro-Oeste</td>\n      <td>21393</td>\n    </tr>\n    <tr>\n      <th>24</th>\n      <td>Mato Grosso</td>\n      <td>1425</td>\n      <td>1248</td>\n      <td>1267</td>\n      <td>1148</td>\n      <td>1344</td>\n      <td>1310</td>\n      <td>1170</td>\n      <td>1280</td>\n      <td>1158</td>\n      <td>...</td>\n      <td>1886</td>\n      <td>1794</td>\n      <td>1442</td>\n      <td>1456</td>\n      <td>1430</td>\n      <td>1414</td>\n      <td>1532</td>\n      <td>1188</td>\n      <td>Centro-Oeste</td>\n      <td>27836</td>\n    </tr>\n    <tr>\n      <th>25</th>\n      <td>Goiás</td>\n      <td>1148</td>\n      <td>1149</td>\n      <td>1242</td>\n      <td>1089</td>\n      <td>1081</td>\n      <td>976</td>\n      <td>959</td>\n      <td>953</td>\n      <td>1012</td>\n      <td>...</td>\n      <td>1072</td>\n      <td>991</td>\n      <td>1095</td>\n      <td>1027</td>\n      <td>1163</td>\n      <td>1212</td>\n      <td>1173</td>\n      <td>952</td>\n      <td>Centro-Oeste</td>\n      <td>21357</td>\n    </tr>\n    <tr>\n      <th>26</th>\n      <td>Distrito Federal</td>\n      <td>638</td>\n      <td>606</td>\n      <td>614</td>\n      <td>625</td>\n      <td>621</td>\n      <td>583</td>\n      <td>634</td>\n      <td>518</td>\n      <td>449</td>\n      <td>...</td>\n      <td>473</td>\n      <td>512</td>\n      <td>478</td>\n      <td>463</td>\n      <td>413</td>\n      <td>471</td>\n      <td>483</td>\n      <td>382</td>\n      <td>Centro-Oeste</td>\n      <td>10436</td>\n    </tr>\n    <tr>\n      <th>27</th>\n      <td>Total</td>\n      <td>87265</td>\n      <td>92859</td>\n      <td>93773</td>\n      <td>92980</td>\n      <td>92056</td>\n      <td>85031</td>\n      <td>84600</td>\n      <td>86768</td>\n      <td>86318</td>\n      <td>...</td>\n      <td>86208</td>\n      <td>85213</td>\n      <td>85452</td>\n      <td>86207</td>\n      <td>91301</td>\n      <td>95539</td>\n      <td>97629</td>\n      <td>83678</td>\n      <td>-</td>\n      <td>1772254</td>\n    </tr>\n  </tbody>\n</table>\n<p>28 rows × 23 columns</p>\n</div>"
     },
     "metadata": {},
     "execution_count": 9
    }
   ],
   "source": [
    "useful_data.loc[:26, 'UF de notificacão'] = useful_data.loc[:26, 'UF de notificacão'].apply(lambda x: x[3:])\n",
    "useful_data.set_index('UF de notificacão')\n",
    "useful_data"
   ]
  },
  {
   "source": [
    "---\n",
    "\n",
    "## Exportação dos dados tratados"
   ],
   "cell_type": "markdown",
   "metadata": {}
  },
  {
   "cell_type": "code",
   "execution_count": 10,
   "metadata": {},
   "outputs": [],
   "source": [
    "info = 'tuberculose'\n",
    "place = 'brasil'\n",
    "path_to_csv = '../data/loaded/{}/{}_{}.csv'.format(info, info, place)"
   ]
  },
  {
   "cell_type": "code",
   "execution_count": 11,
   "metadata": {},
   "outputs": [],
   "source": [
    "useful_data.to_csv(path_to_csv)"
   ]
  },
  {
   "cell_type": "code",
   "execution_count": null,
   "metadata": {},
   "outputs": [],
   "source": []
  }
 ]
}