{
 "metadata": {
  "language_info": {
   "codemirror_mode": {
    "name": "ipython",
    "version": 3
   },
   "file_extension": ".py",
   "mimetype": "text/x-python",
   "name": "python",
   "nbconvert_exporter": "python",
   "pygments_lexer": "ipython3",
   "version": "3.6.9"
  },
  "orig_nbformat": 2,
  "kernelspec": {
   "name": "python36964bit1ec68fe535d74d50b84ee024a1742e6d",
   "display_name": "Python 3.6.9 64-bit"
  },
  "metadata": {
   "interpreter": {
    "hash": "31f2aee4e71d21fbe5cf8b01ff0e069b9275f58929596ceb00d14d90e3e16cd6"
   }
  }
 },
 "nbformat": 4,
 "nbformat_minor": 2,
 "cells": [
  {
   "source": [
    "# Notebook para tratamento e exportação dos dados da hanseníase"
   ],
   "cell_type": "markdown",
   "metadata": {}
  },
  {
   "source": [
    "## Importação das bibliotecas"
   ],
   "cell_type": "markdown",
   "metadata": {}
  },
  {
   "cell_type": "code",
   "execution_count": 1,
   "metadata": {},
   "outputs": [],
   "source": [
    "import pandas as pd\n",
    "import json"
   ]
  },
  {
   "source": [
    "---\n",
    "\n",
    "## Configuração de variáveis"
   ],
   "cell_type": "markdown",
   "metadata": {}
  },
  {
   "cell_type": "code",
   "execution_count": 2,
   "metadata": {},
   "outputs": [],
   "source": [
    "info = 'hanseniase'\n",
    "path_to_hanseniase = '../data/extracted/hanseniase/'\n",
    "path_to_csv = []\n",
    "path_to_csv.append(path_to_hanseniase + 'brasil_{}.csv'.format(info))"
   ]
  },
  {
   "cell_type": "code",
   "execution_count": 3,
   "metadata": {},
   "outputs": [],
   "source": [
    "path_to_output = '../data/loaded/hanseniase/'\n",
    "path_to_json = []\n",
    "path_to_json.append(path_to_output + 'brasil_{}.json'.format(info))"
   ]
  },
  {
   "cell_type": "code",
   "execution_count": 4,
   "metadata": {},
   "outputs": [],
   "source": [
    "estados = ['acre',\n",
    "           'alagoas',\n",
    "           'amapa',\n",
    "           'amazonas',\n",
    "           'bahia',\n",
    "           'ceara',\n",
    "           'distrito_federal',\n",
    "           'espirito_santo',\n",
    "           'goias',\n",
    "           'maranhao',\n",
    "           'mato_grosso_do_sul',\n",
    "           'mato_grosso',\n",
    "           'minas_gerais',\n",
    "           'paraiba',\n",
    "           'parana',\n",
    "           'pernambuco',\n",
    "           'piaui',\n",
    "           'rio_de_janeiro',\n",
    "           'rio_grande_do_norte',\n",
    "           'rio_grande_do_sul',\n",
    "           'rondonia',\n",
    "           'santa_catarina',\n",
    "           'sao_paulo',\n",
    "           'sergipe',\n",
    "           'tocantins']"
   ]
  },
  {
   "cell_type": "code",
   "execution_count": 5,
   "metadata": {},
   "outputs": [],
   "source": [
    "for estado in estados:\n",
    "    path_to_csv.append(path_to_hanseniase + '{}_{}.csv'.format(info, estado))\n",
    "    path_to_json.append(path_to_output + '{}_{}.json'.format(info, estado))"
   ]
  },
  {
   "source": [
    "---\n",
    "\n",
    "## Recuperação visualização superficial e exportação dos metadados"
   ],
   "cell_type": "markdown",
   "metadata": {}
  },
  {
   "cell_type": "code",
   "execution_count": 6,
   "metadata": {},
   "outputs": [
    {
     "output_type": "stream",
     "name": "stdout",
     "text": [
      "Número total\n------------\n  Ano Diagnóstico  Frequência  N_DOSES  Lesões_Cutâneas\n0            2001       51013    36774            53717\n1            2002       55226    43758           135772\n2            2003       58672    48796           235583\n3            2004       57363    62180           249697\n4            2005       56088   102256           254443\n------------\n\n\nacre\n------------\n  Ano Diagnóstico  Frequência  N_DOSES  Lesões_Cutâneas\n0            2001         443     1307             1215\n1            2002         398     1001             2199\n2            2003         465     1272             2839\n3            2004         364     2454             2577\n4            2005         395     2654             2872\n------------\n\n\nalagoas\n------------\n  Ano Diagnóstico  Frequência  N_DOSES  Lesões_Cutâneas\n0            2001         401       74              305\n1            2002         453       11             1592\n2            2003         599      342             2371\n3            2004         498      239             2297\n4            2005         526      907             2596\n------------\n\n\namapa\n------------\n  Ano Diagnóstico  Frequência  N_DOSES  Lesões_Cutâneas\n0            2001         152       72              742\n1            2002         197       44             1002\n2            2003         245      114             1596\n3            2004         217      219             1414\n4            2005         196      785             1133\n------------\n\n\namazonas\n------------\n  Ano Diagnóstico  Frequência  N_DOSES  Lesões_Cutâneas\n0            2001        1464      852               80\n1            2002        1605     1425              511\n2            2003        1315     1048             4505\n3            2004        1251     1333             5060\n4            2005        1136     2712             4345\n------------\n\n\nbahia\n------------\n  Ano Diagnóstico  Frequência  N_DOSES  Lesões_Cutâneas\n0            2001        2512      597              787\n1            2002        2825      436             5455\n2            2003        3630      972            12997\n3            2004        4450     1940            15731\n4            2005        4148     4297            17523\n------------\n\n\nceara\n------------\n  Ano Diagnóstico  Frequência  N_DOSES  Lesões_Cutâneas\n0            2001        2930      489              338\n1            2002        2808      635              918\n2            2003        3342      849            11762\n3            2004        3019     1058            13946\n4            2005        3022     2822            15955\n------------\n\n\ndistrito_federal\n------------\n  Ano Diagnóstico  Frequência  N_DOSES  Lesões_Cutâneas\n0            2001         359        2               50\n1            2002         401       18             1266\n2            2003         384        8             1753\n3            2004         325      112             1554\n4            2005         320      581             1425\n------------\n\n\nespirito_santo\n------------\n  Ano Diagnóstico  Frequência  N_DOSES  Lesões_Cutâneas\n0            2001        1561      748             1560\n1            2002        1824      847             5040\n2            2003        1914     1130             5917\n3            2004        1697     1345             5522\n4            2005        1662     2692             5827\n------------\n\n\ngoias\n------------\n  Ano Diagnóstico  Frequência  N_DOSES  Lesões_Cutâneas\n0            2001        3353      775              370\n1            2002        3894     1003             1599\n2            2003        4028     1818            18954\n3            2004        3999     3275            20856\n4            2005        3762     5501            20432\n------------\n\n\nmaranhao\n------------\n  Ano Diagnóstico  Frequência  N_DOSES  Lesões_Cutâneas\n0            2000         314      351              526\n1            2001        5248     2547             3206\n2            2002        5740     3438            15385\n3            2003        5768     3257            21633\n4            2004        6118     3859            22957\n------------\n\n\nmato_grosso_do_sul\n------------\n  Ano Diagnóstico  Frequência  N_DOSES  Lesões_Cutâneas\n0            2001         623     1424              476\n1            2002         701     1580             1561\n2            2003         788     1812             3017\n3            2004         793     1824             3005\n4            2005         689     1772             2545\n------------\n\n\nmato_grosso\n------------\n  Ano Diagnóstico  Frequência  N_DOSES  Lesões_Cutâneas\n0            2001        3939     4851             3431\n1            2002        3942     4991            11842\n2            2003        4335     5249            13512\n3            2004        3920     5174            12507\n4            2005        4196     9588            13584\n------------\n\n\nminas_gerais\n------------\n  Ano Diagnóstico  Frequência  N_DOSES  Lesões_Cutâneas\n0            2001        3088     4863            17917\n1            2002        3760     6603            20552\n2            2003        3613     8366            19969\n3            2004        3450     9499            17774\n4            2005        3262     9215            17640\n------------\n\n\nparaiba\n------------\n  Ano Diagnóstico  Frequência  N_DOSES  Lesões_Cutâneas\n0            2001         885      136              887\n1            2002         985      312             1851\n2            2003        1030      317             2973\n3            2004        1002      376             4151\n4            2005        1135     1027             4303\n------------\n\n\nparana\n------------\n  Ano Diagnóstico  Frequência  N_DOSES  Lesões_Cutâneas\n0            2001        1753     2316             1367\n1            2002        1934     3104             3644\n2            2003        1990     3271            12295\n3            2004        2120     3865            16119\n4            2005        1895     6425            13793\n------------\n\n\npernambuco\n------------\n  Ano Diagnóstico  Frequência  N_DOSES  Lesões_Cutâneas\n0            2001        3463     1079              968\n1            2002        3739     1850             7874\n2            2003        4155     1613            13601\n3            2004        3894     2233            13526\n4            2005        3857     4102            14327\n------------\n\n\npiaui\n------------\n  Ano Diagnóstico  Frequência  N_DOSES  Lesões_Cutâneas\n0            2001        1885      580              798\n1            2002        1796      402             1862\n2            2003        2070      633             6871\n3            2004        1932      987             8054\n4            2005        2017     2370             9142\n------------\n\n\nrio_de_janeiro\n------------\n  Ano Diagnóstico  Frequência  N_DOSES  Lesões_Cutâneas\n0            2001        3282     1996             1573\n1            2002        3625     2581             7587\n2            2003        3519     2249            17825\n3            2004        3299     3152            18367\n4            2005        2987     6097            17453\n------------\n\n\nrio_grande_do_norte\n------------\n  Ano Diagnóstico  Frequência  N_DOSES  Lesões_Cutâneas\n0            2001         254       47                7\n1            2002         274      150               29\n2            2003         287      120              525\n3            2004         362      285              986\n4            2005         536      816             1544\n------------\n\n\nrio_grande_do_sul\n------------\n  Ano Diagnóstico  Frequência  N_DOSES  Lesões_Cutâneas\n0            2001         223       36              811\n1            2002         281       77             2335\n2            2003         266      159             2242\n3            2004         265       80             2209\n4            2005         268      346             2680\n------------\n\n\nrondonia\n------------\n  Ano Diagnóstico  Frequência  N_DOSES  Lesões_Cutâneas\n0            2001        1291      142              121\n1            2002        1364      239             3790\n2            2003        1572      352             4756\n3            2004        1490      623             4406\n4            2005        1412     1315             4482\n------------\n\n\nsanta_catarina\n------------\n  Ano Diagnóstico  Frequência  N_DOSES  Lesões_Cutâneas\n0            2001         213      384              451\n1            2002         267      229             1820\n2            2003         293      353             1970\n3            2004         291      255             1771\n4            2005         266      485             2099\n------------\n\n\nsao_paulo\n------------\n  Ano Diagnóstico  Frequência  N_DOSES  Lesões_Cutâneas\n0            2001        3570     4647             3523\n1            2002        3502     5065            13291\n2            2003        3521     4425            15650\n3            2004        3224     5514            16599\n4            2005        3011     9440            16424\n------------\n\n\nsergipe\n------------\n  Ano Diagnóstico  Frequência  N_DOSES  Lesões_Cutâneas\n0            2001         349      114              976\n1            2002         498      367             2026\n2            2003         665      454             2757\n3            2004         641      795             3448\n4            2005         754     1266             3402\n------------\n\n\ntocantins\n------------\n  Ano Diagnóstico  Frequência  N_DOSES  Lesões_Cutâneas\n0            2001        1353     4085             4564\n1            2002        1250     3937             4959\n2            2003        1409     4715             6246\n3            2004        1486     6225             6355\n4            2005        1469     6235             6123\n------------\n\n\n"
     ]
    }
   ],
   "source": [
    "for i in range(len(path_to_csv)):\n",
    "    df = pd.read_csv(path_to_csv[i], encoding='utf8', sep=';')\n",
    "    if i==0:\n",
    "        print(\"Número total\")\n",
    "    else:\n",
    "        print(estados[i-1])\n",
    "    print(\"------------\")\n",
    "    print(df.head())\n",
    "    print(\"------------\")\n",
    "    print(\"\\n\")\n",
    "    df_as_json = df.to_json()\n",
    "    df_as_json = json.loads(df_as_json)\n",
    "    with open(path_to_json[i], 'w') as outfile:\n",
    "        json.dump(df_as_json, outfile)\n"
   ]
  },
  {
   "source": [
    "> Como os metadados não foram disponibilizados com a granularidade de estados em um único dataset, e estes apresentavam uma grande divergência entre si, os dados foram normalizados dentro dos próprios csv"
   ],
   "cell_type": "markdown",
   "metadata": {}
  }
 ]
}