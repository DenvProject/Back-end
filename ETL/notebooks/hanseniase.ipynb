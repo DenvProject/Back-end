{
 "metadata": {
  "language_info": {
   "codemirror_mode": {
    "name": "ipython",
    "version": 3
   },
   "file_extension": ".py",
   "mimetype": "text/x-python",
   "name": "python",
   "nbconvert_exporter": "python",
   "pygments_lexer": "ipython3",
   "version": "3.6.9"
  },
  "orig_nbformat": 2,
  "kernelspec": {
   "name": "python36964bit1ec68fe535d74d50b84ee024a1742e6d",
   "display_name": "Python 3.6.9 64-bit"
  },
  "metadata": {
   "interpreter": {
    "hash": "31f2aee4e71d21fbe5cf8b01ff0e069b9275f58929596ceb00d14d90e3e16cd6"
   }
  }
 },
 "nbformat": 4,
 "nbformat_minor": 2,
 "cells": [
  {
   "cell_type": "code",
   "execution_count": 1,
   "metadata": {},
   "outputs": [],
   "source": [
    "import pandas as pd"
   ]
  },
  {
   "cell_type": "code",
   "execution_count": 2,
   "metadata": {},
   "outputs": [],
   "source": [
    "info = 'hanseniase'\n",
    "place = 'brasil'\n",
    "path_to_csv = '../data/extracted/{}/{}_{}.csv'.format(info, place, info)"
   ]
  },
  {
   "cell_type": "code",
   "execution_count": 13,
   "metadata": {},
   "outputs": [],
   "source": [
    "df = pd.read_csv(path_to_csv, encoding='utf8', sep=';', skipfooter=11, skiprows=3, engine='python')"
   ]
  },
  {
   "cell_type": "code",
   "execution_count": 14,
   "metadata": {},
   "outputs": [
    {
     "output_type": "execute_result",
     "data": {
      "text/plain": [
       "   Ano Diagnóstico  Frequência  N_DOSES  Lesões_Cutâneas\n",
       "0             2001       51013    36774            53717\n",
       "1             2002       55226    43758           135772\n",
       "2             2003       58672    48796           235583\n",
       "3             2004       57363    62180           249697\n",
       "4             2005       56088   102256           254443\n",
       "5             2006       51068   251718           248788\n",
       "6             2007       47767   362243           262807\n",
       "7             2008       47525   380931           288170\n",
       "8             2009       44878   362823           268401\n",
       "9             2010       42506   350675           261608\n",
       "10            2011       41392   354020           267464\n",
       "11            2012       40649   350593           264305\n",
       "12            2013       38093   336715           249640\n",
       "13            2014       38424   340704           252093\n",
       "14            2015       35913   322825           248719\n",
       "15            2016       32213   294956           224671\n",
       "16            2017       34654   317347           236644\n",
       "17            2018       36977   341472           256563\n",
       "18            2019       36194   283706           239015\n",
       "19            2020       19478    69603           133067\n",
       "20           Total      871157  5022140          4642572"
      ],
      "text/html": "<div>\n<style scoped>\n    .dataframe tbody tr th:only-of-type {\n        vertical-align: middle;\n    }\n\n    .dataframe tbody tr th {\n        vertical-align: top;\n    }\n\n    .dataframe thead th {\n        text-align: right;\n    }\n</style>\n<table border=\"1\" class=\"dataframe\">\n  <thead>\n    <tr style=\"text-align: right;\">\n      <th></th>\n      <th>Ano Diagnóstico</th>\n      <th>Frequência</th>\n      <th>N_DOSES</th>\n      <th>Lesões_Cutâneas</th>\n    </tr>\n  </thead>\n  <tbody>\n    <tr>\n      <th>0</th>\n      <td>2001</td>\n      <td>51013</td>\n      <td>36774</td>\n      <td>53717</td>\n    </tr>\n    <tr>\n      <th>1</th>\n      <td>2002</td>\n      <td>55226</td>\n      <td>43758</td>\n      <td>135772</td>\n    </tr>\n    <tr>\n      <th>2</th>\n      <td>2003</td>\n      <td>58672</td>\n      <td>48796</td>\n      <td>235583</td>\n    </tr>\n    <tr>\n      <th>3</th>\n      <td>2004</td>\n      <td>57363</td>\n      <td>62180</td>\n      <td>249697</td>\n    </tr>\n    <tr>\n      <th>4</th>\n      <td>2005</td>\n      <td>56088</td>\n      <td>102256</td>\n      <td>254443</td>\n    </tr>\n    <tr>\n      <th>5</th>\n      <td>2006</td>\n      <td>51068</td>\n      <td>251718</td>\n      <td>248788</td>\n    </tr>\n    <tr>\n      <th>6</th>\n      <td>2007</td>\n      <td>47767</td>\n      <td>362243</td>\n      <td>262807</td>\n    </tr>\n    <tr>\n      <th>7</th>\n      <td>2008</td>\n      <td>47525</td>\n      <td>380931</td>\n      <td>288170</td>\n    </tr>\n    <tr>\n      <th>8</th>\n      <td>2009</td>\n      <td>44878</td>\n      <td>362823</td>\n      <td>268401</td>\n    </tr>\n    <tr>\n      <th>9</th>\n      <td>2010</td>\n      <td>42506</td>\n      <td>350675</td>\n      <td>261608</td>\n    </tr>\n    <tr>\n      <th>10</th>\n      <td>2011</td>\n      <td>41392</td>\n      <td>354020</td>\n      <td>267464</td>\n    </tr>\n    <tr>\n      <th>11</th>\n      <td>2012</td>\n      <td>40649</td>\n      <td>350593</td>\n      <td>264305</td>\n    </tr>\n    <tr>\n      <th>12</th>\n      <td>2013</td>\n      <td>38093</td>\n      <td>336715</td>\n      <td>249640</td>\n    </tr>\n    <tr>\n      <th>13</th>\n      <td>2014</td>\n      <td>38424</td>\n      <td>340704</td>\n      <td>252093</td>\n    </tr>\n    <tr>\n      <th>14</th>\n      <td>2015</td>\n      <td>35913</td>\n      <td>322825</td>\n      <td>248719</td>\n    </tr>\n    <tr>\n      <th>15</th>\n      <td>2016</td>\n      <td>32213</td>\n      <td>294956</td>\n      <td>224671</td>\n    </tr>\n    <tr>\n      <th>16</th>\n      <td>2017</td>\n      <td>34654</td>\n      <td>317347</td>\n      <td>236644</td>\n    </tr>\n    <tr>\n      <th>17</th>\n      <td>2018</td>\n      <td>36977</td>\n      <td>341472</td>\n      <td>256563</td>\n    </tr>\n    <tr>\n      <th>18</th>\n      <td>2019</td>\n      <td>36194</td>\n      <td>283706</td>\n      <td>239015</td>\n    </tr>\n    <tr>\n      <th>19</th>\n      <td>2020</td>\n      <td>19478</td>\n      <td>69603</td>\n      <td>133067</td>\n    </tr>\n    <tr>\n      <th>20</th>\n      <td>Total</td>\n      <td>871157</td>\n      <td>5022140</td>\n      <td>4642572</td>\n    </tr>\n  </tbody>\n</table>\n</div>"
     },
     "metadata": {},
     "execution_count": 14
    }
   ],
   "source": [
    "df"
   ]
  },
  {
   "cell_type": "code",
   "execution_count": null,
   "metadata": {},
   "outputs": [],
   "source": []
  }
 ]
}