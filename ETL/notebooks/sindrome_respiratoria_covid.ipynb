{
 "metadata": {
  "language_info": {
   "codemirror_mode": {
    "name": "ipython",
    "version": 3
   },
   "file_extension": ".py",
   "mimetype": "text/x-python",
   "name": "python",
   "nbconvert_exporter": "python",
   "pygments_lexer": "ipython3",
   "version": "3.6.9"
  },
  "orig_nbformat": 2,
  "kernelspec": {
   "name": "python36964bit1ec68fe535d74d50b84ee024a1742e6d",
   "display_name": "Python 3.6.9 64-bit"
  },
  "metadata": {
   "interpreter": {
    "hash": "31f2aee4e71d21fbe5cf8b01ff0e069b9275f58929596ceb00d14d90e3e16cd6"
   }
  }
 },
 "nbformat": 4,
 "nbformat_minor": 2,
 "cells": [
  {
   "source": [
    "# Notebook do tratamento dos dados de crises respiratórias suspeitas de covid"
   ],
   "cell_type": "markdown",
   "metadata": {}
  },
  {
   "source": [
    "## Importação das bibliotecas"
   ],
   "cell_type": "markdown",
   "metadata": {}
  },
  {
   "cell_type": "code",
   "execution_count": 1,
   "metadata": {},
   "outputs": [],
   "source": [
    "import pandas as pd\n",
    "import json"
   ]
  },
  {
   "source": [
    "---\n",
    "\n",
    "## Configuração de variáveis"
   ],
   "cell_type": "markdown",
   "metadata": {}
  },
  {
   "cell_type": "code",
   "execution_count": 2,
   "metadata": {},
   "outputs": [],
   "source": [
    "info = 'sindrome_respiratoria_covid'\n",
    "path_to_csv = '../data/extracted/{}/{}.csv'.format(info, info)\n",
    "path_to_json = '../data/loaded/{}/{}.json'.format(info, info)"
   ]
  },
  {
   "source": [
    "---\n",
    "\n",
    "## Recuperação e visualização superficial dos dados"
   ],
   "cell_type": "markdown",
   "metadata": {}
  },
  {
   "cell_type": "code",
   "execution_count": 3,
   "metadata": {},
   "outputs": [
    {
     "output_type": "stream",
     "name": "stderr",
     "text": [
      "/home/kisobral/.local/lib/python3.6/site-packages/IPython/core/interactiveshell.py:3072: DtypeWarning: Columns (15,18,60,62,63,64,92,94,106,108,115,117,118,119,123,144) have mixed types.Specify dtype option on import or set low_memory=False.\n  interactivity=interactivity, compiler=compiler, result=result)\n"
     ]
    }
   ],
   "source": [
    "df = pd.read_csv(path_to_csv, sep=';')"
   ]
  },
  {
   "cell_type": "code",
   "execution_count": 4,
   "metadata": {},
   "outputs": [
    {
     "output_type": "execute_result",
     "data": {
      "text/plain": [
       "   DT_NOTIFIC  SEM_NOT  DT_SIN_PRI  SEM_PRI SG_UF_NOT  \\\n",
       "0  05/01/2021        1  03/01/2021        1        SP   \n",
       "1  06/01/2021        1  03/01/2021        1        RS   \n",
       "2  10/01/2021        2  03/01/2021        1        SP   \n",
       "3  06/01/2021        1  06/01/2021        1        PR   \n",
       "4  08/01/2021        1  05/01/2021        1        SC   \n",
       "\n",
       "                ID_REGIONA  CO_REGIONA      ID_MUNICIP  CO_MUN_NOT  \\\n",
       "0            GVE I CAPITAL      1331.0       SAO PAULO      355030   \n",
       "1                  006 CRS      1611.0     PASSO FUNDO      431410   \n",
       "2  GVE XXIV RIBEIRAO PRETO      1348.0  RIBEIRAO PRETO      354340   \n",
       "3             15RS MARINGA      1369.0         MARINGA      411520   \n",
       "4            FLORIANOPOLIS      1476.0   FLORIANOPOLIS      420540   \n",
       "\n",
       "                                    ID_UNIDADE  ...  DS_AN_OUT TP_AM_SOR  \\\n",
       "0  HC DA FMUSP HOSPITAL DAS CLINICAS SAO PAULO  ...        NaN       NaN   \n",
       "1                HOSPITAL SAO VICENTE DE PAULO  ...        NaN       1.0   \n",
       "2  HOSPITAL IMACULADA CONCEICAO RIBEIRAO PRETO  ...        NaN       NaN   \n",
       "3               HOSPITAL E MATERNIDADE MARINGA  ...        NaN       NaN   \n",
       "4                         HOSPITAL NEREU RAMOS  ...        NaN       NaN   \n",
       "\n",
       "  SOR_OUT   DT_CO_SOR  TP_SOR OUT_SOR      DT_RES  RES_IGG RES_IGM  RES_IGA  \n",
       "0     NaN         NaN     NaN     NaN         NaN      NaN     NaN      NaN  \n",
       "1     NaN  05/01/2021     1.0     NaN  05/01/2021      2.0     2.0      NaN  \n",
       "2     NaN         NaN     NaN     NaN         NaN      NaN     NaN      NaN  \n",
       "3     NaN         NaN     NaN     NaN         NaN      NaN     NaN      NaN  \n",
       "4     NaN         NaN     NaN     NaN         NaN      NaN     NaN      NaN  \n",
       "\n",
       "[5 rows x 154 columns]"
      ],
      "text/html": "<div>\n<style scoped>\n    .dataframe tbody tr th:only-of-type {\n        vertical-align: middle;\n    }\n\n    .dataframe tbody tr th {\n        vertical-align: top;\n    }\n\n    .dataframe thead th {\n        text-align: right;\n    }\n</style>\n<table border=\"1\" class=\"dataframe\">\n  <thead>\n    <tr style=\"text-align: right;\">\n      <th></th>\n      <th>DT_NOTIFIC</th>\n      <th>SEM_NOT</th>\n      <th>DT_SIN_PRI</th>\n      <th>SEM_PRI</th>\n      <th>SG_UF_NOT</th>\n      <th>ID_REGIONA</th>\n      <th>CO_REGIONA</th>\n      <th>ID_MUNICIP</th>\n      <th>CO_MUN_NOT</th>\n      <th>ID_UNIDADE</th>\n      <th>...</th>\n      <th>DS_AN_OUT</th>\n      <th>TP_AM_SOR</th>\n      <th>SOR_OUT</th>\n      <th>DT_CO_SOR</th>\n      <th>TP_SOR</th>\n      <th>OUT_SOR</th>\n      <th>DT_RES</th>\n      <th>RES_IGG</th>\n      <th>RES_IGM</th>\n      <th>RES_IGA</th>\n    </tr>\n  </thead>\n  <tbody>\n    <tr>\n      <th>0</th>\n      <td>05/01/2021</td>\n      <td>1</td>\n      <td>03/01/2021</td>\n      <td>1</td>\n      <td>SP</td>\n      <td>GVE I CAPITAL</td>\n      <td>1331.0</td>\n      <td>SAO PAULO</td>\n      <td>355030</td>\n      <td>HC DA FMUSP HOSPITAL DAS CLINICAS SAO PAULO</td>\n      <td>...</td>\n      <td>NaN</td>\n      <td>NaN</td>\n      <td>NaN</td>\n      <td>NaN</td>\n      <td>NaN</td>\n      <td>NaN</td>\n      <td>NaN</td>\n      <td>NaN</td>\n      <td>NaN</td>\n      <td>NaN</td>\n    </tr>\n    <tr>\n      <th>1</th>\n      <td>06/01/2021</td>\n      <td>1</td>\n      <td>03/01/2021</td>\n      <td>1</td>\n      <td>RS</td>\n      <td>006 CRS</td>\n      <td>1611.0</td>\n      <td>PASSO FUNDO</td>\n      <td>431410</td>\n      <td>HOSPITAL SAO VICENTE DE PAULO</td>\n      <td>...</td>\n      <td>NaN</td>\n      <td>1.0</td>\n      <td>NaN</td>\n      <td>05/01/2021</td>\n      <td>1.0</td>\n      <td>NaN</td>\n      <td>05/01/2021</td>\n      <td>2.0</td>\n      <td>2.0</td>\n      <td>NaN</td>\n    </tr>\n    <tr>\n      <th>2</th>\n      <td>10/01/2021</td>\n      <td>2</td>\n      <td>03/01/2021</td>\n      <td>1</td>\n      <td>SP</td>\n      <td>GVE XXIV RIBEIRAO PRETO</td>\n      <td>1348.0</td>\n      <td>RIBEIRAO PRETO</td>\n      <td>354340</td>\n      <td>HOSPITAL IMACULADA CONCEICAO RIBEIRAO PRETO</td>\n      <td>...</td>\n      <td>NaN</td>\n      <td>NaN</td>\n      <td>NaN</td>\n      <td>NaN</td>\n      <td>NaN</td>\n      <td>NaN</td>\n      <td>NaN</td>\n      <td>NaN</td>\n      <td>NaN</td>\n      <td>NaN</td>\n    </tr>\n    <tr>\n      <th>3</th>\n      <td>06/01/2021</td>\n      <td>1</td>\n      <td>06/01/2021</td>\n      <td>1</td>\n      <td>PR</td>\n      <td>15RS MARINGA</td>\n      <td>1369.0</td>\n      <td>MARINGA</td>\n      <td>411520</td>\n      <td>HOSPITAL E MATERNIDADE MARINGA</td>\n      <td>...</td>\n      <td>NaN</td>\n      <td>NaN</td>\n      <td>NaN</td>\n      <td>NaN</td>\n      <td>NaN</td>\n      <td>NaN</td>\n      <td>NaN</td>\n      <td>NaN</td>\n      <td>NaN</td>\n      <td>NaN</td>\n    </tr>\n    <tr>\n      <th>4</th>\n      <td>08/01/2021</td>\n      <td>1</td>\n      <td>05/01/2021</td>\n      <td>1</td>\n      <td>SC</td>\n      <td>FLORIANOPOLIS</td>\n      <td>1476.0</td>\n      <td>FLORIANOPOLIS</td>\n      <td>420540</td>\n      <td>HOSPITAL NEREU RAMOS</td>\n      <td>...</td>\n      <td>NaN</td>\n      <td>NaN</td>\n      <td>NaN</td>\n      <td>NaN</td>\n      <td>NaN</td>\n      <td>NaN</td>\n      <td>NaN</td>\n      <td>NaN</td>\n      <td>NaN</td>\n      <td>NaN</td>\n    </tr>\n  </tbody>\n</table>\n<p>5 rows × 154 columns</p>\n</div>"
     },
     "metadata": {},
     "execution_count": 4
    }
   ],
   "source": [
    "df.head()"
   ]
  },
  {
   "cell_type": "code",
   "execution_count": 5,
   "metadata": {},
   "outputs": [],
   "source": [
    "df.DS_AN_OUT = df.DS_AN_OUT.fillna('OUTROS')"
   ]
  },
  {
   "cell_type": "code",
   "execution_count": 6,
   "metadata": {},
   "outputs": [
    {
     "output_type": "execute_result",
     "data": {
      "text/plain": [
       "OUTROS                          763080\n",
       "COVID-19                            65\n",
       "SARS-COV-2                          31\n",
       "COVID 19                            28\n",
       "RHINOVIRUS                          12\n",
       "COVID19                              9\n",
       "COVID                                6\n",
       "CORONAVIRUS                          5\n",
       "RINOVIRUS                            3\n",
       "BOCAVIRUS                            2\n",
       "SARS COV 2                           2\n",
       "SARS- COV2                           1\n",
       "SARS-COV-                            1\n",
       "SARS COV 19                          1\n",
       "RINOVIRUS E CORONAVIRUS NL63         1\n",
       "COV 19                               1\n",
       "COVID + ANTIGENO                     1\n",
       "VIRUS SINCICIAL RESPIRATORIO         1\n",
       "SARSCOV                              1\n",
       "VIRUS SINCICIAL                      1\n",
       "SARS COV 2 COVID                     1\n",
       "RHINOVIRUS, ENTEROVIRUS              1\n",
       "CORONA VIRUS                         1\n",
       "Name: DS_AN_OUT, dtype: int64"
      ]
     },
     "metadata": {},
     "execution_count": 6
    }
   ],
   "source": [
    "df.DS_AN_OUT.value_counts()"
   ]
  },
  {
   "source": [
    "---\n",
    "\n",
    "## Criação de um novo dataframe com as informações úteis"
   ],
   "cell_type": "markdown",
   "metadata": {}
  },
  {
   "cell_type": "code",
   "execution_count": 7,
   "metadata": {},
   "outputs": [],
   "source": [
    "useful_columns = ['DT_NOTIFIC', 'SG_UF_NOT', 'DS_AN_OUT']"
   ]
  },
  {
   "cell_type": "code",
   "execution_count": 8,
   "metadata": {},
   "outputs": [],
   "source": [
    "useful_data = df[useful_columns]"
   ]
  },
  {
   "cell_type": "code",
   "execution_count": 9,
   "metadata": {},
   "outputs": [
    {
     "output_type": "execute_result",
     "data": {
      "text/plain": [
       "SP    223244\n",
       "MG     89202\n",
       "RJ     54973\n",
       "PR     53282\n",
       "RS     51612\n",
       "CE     36210\n",
       "SC     30506\n",
       "BA     28106\n",
       "GO     25107\n",
       "PA     18761\n",
       "AM     17064\n",
       "PE     17035\n",
       "DF     14993\n",
       "MS     13477\n",
       "PB     12616\n",
       "MT     11448\n",
       "AL      9653\n",
       "SE      8803\n",
       "RN      8301\n",
       "MA      8000\n",
       "RO      7330\n",
       "PI      7245\n",
       "TO      6286\n",
       "ES      4987\n",
       "AC      2319\n",
       "AP      1537\n",
       "RR      1158\n",
       "Name: SG_UF_NOT, dtype: int64"
      ]
     },
     "metadata": {},
     "execution_count": 9
    }
   ],
   "source": [
    "useful_data.SG_UF_NOT.value_counts()"
   ]
  },
  {
   "cell_type": "code",
   "execution_count": 10,
   "metadata": {},
   "outputs": [],
   "source": [
    "numero_de_pessoas = useful_data.shape[0]"
   ]
  },
  {
   "source": [
    "---\n",
    "\n",
    "## Exportação dos dados em JSON"
   ],
   "cell_type": "markdown",
   "metadata": {}
  },
  {
   "cell_type": "code",
   "execution_count": 11,
   "metadata": {},
   "outputs": [],
   "source": [
    "useful_data_as_json = useful_data.to_json()\n",
    "useful_data_as_json = json.loads(useful_data_as_json)\n",
    "useful_data_as_json.update({'Total': numero_de_pessoas})\n",
    "with open(path_to_json, 'w') as outfile:\n",
    "    json.dump(useful_data_as_json, outfile)"
   ]
  }
 ]
}